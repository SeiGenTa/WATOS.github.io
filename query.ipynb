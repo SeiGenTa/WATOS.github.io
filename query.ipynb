{
 "cells": [
  {
   "cell_type": "markdown",
   "metadata": {},
   "source": [
    "# Querys!"
   ]
  },
  {
   "cell_type": "code",
   "execution_count": 42,
   "metadata": {},
   "outputs": [],
   "source": [
    "from rdflib import Graph"
   ]
  },
  {
   "cell_type": "code",
   "execution_count": 43,
   "metadata": {},
   "outputs": [
    {
     "data": {
      "text/plain": [
       "<Graph identifier=N009d973a411647b2825061331537f643 (<class 'rdflib.graph.Graph'>)>"
      ]
     },
     "execution_count": 43,
     "metadata": {},
     "output_type": "execute_result"
    }
   ],
   "source": [
    "g = Graph()\n",
    "g.parse(\"data.ttl\", format = \"turtle\")"
   ]
  },
  {
   "cell_type": "code",
   "execution_count": 44,
   "metadata": {},
   "outputs": [],
   "source": [
    "def run_query(qry: str):\n",
    "    results = g.query(qry)\n",
    "    for row in results:\n",
    "        print(row)"
   ]
  },
  {
   "cell_type": "markdown",
   "metadata": {},
   "source": [
    "## Most Represented nationality"
   ]
  },
  {
   "cell_type": "code",
   "execution_count": 45,
   "metadata": {},
   "outputs": [
    {
     "name": "stdout",
     "output_type": "stream",
     "text": [
      "(rdflib.term.URIRef('http://ex.org/f1#British'), rdflib.term.Literal('166', datatype=rdflib.term.URIRef('http://www.w3.org/2001/XMLSchema#integer')))\n",
      "(rdflib.term.URIRef('http://ex.org/f1#American'), rdflib.term.Literal('158', datatype=rdflib.term.URIRef('http://www.w3.org/2001/XMLSchema#integer')))\n",
      "(rdflib.term.URIRef('http://ex.org/f1#Italian'), rdflib.term.Literal('99', datatype=rdflib.term.URIRef('http://www.w3.org/2001/XMLSchema#integer')))\n",
      "(rdflib.term.URIRef('http://ex.org/f1#French'), rdflib.term.Literal('73', datatype=rdflib.term.URIRef('http://www.w3.org/2001/XMLSchema#integer')))\n",
      "(rdflib.term.URIRef('http://ex.org/f1#German'), rdflib.term.Literal('50', datatype=rdflib.term.URIRef('http://www.w3.org/2001/XMLSchema#integer')))\n"
     ]
    }
   ],
   "source": [
    "run_query(\"\"\"\n",
    "SELECT ?nationality (COUNT(?driver) AS ?count)\n",
    "WHERE {\n",
    "    ?driver a f1:Driver;\n",
    "            f1:Nationality ?nationality.\n",
    "}\n",
    "GROUP BY ?nationality\n",
    "ORDER BY DESC(?count)\n",
    "LIMIT 5\n",
    "\"\"\")"
   ]
  },
  {
   "cell_type": "markdown",
   "metadata": {},
   "source": [
    "## Most GP Winner"
   ]
  },
  {
   "cell_type": "code",
   "execution_count": 46,
   "metadata": {},
   "outputs": [
    {
     "name": "stdout",
     "output_type": "stream",
     "text": [
      "(rdflib.term.URIRef('http://ex.org/f1#Hamilton'), rdflib.term.Literal('104', datatype=rdflib.term.URIRef('http://www.w3.org/2001/XMLSchema#integer')))\n",
      "(rdflib.term.URIRef('http://ex.org/f1#Michael_Schumacher'), rdflib.term.Literal('91', datatype=rdflib.term.URIRef('http://www.w3.org/2001/XMLSchema#integer')))\n",
      "(rdflib.term.URIRef('http://ex.org/f1#Max_Verstappen'), rdflib.term.Literal('61', datatype=rdflib.term.URIRef('http://www.w3.org/2001/XMLSchema#integer')))\n",
      "(rdflib.term.URIRef('http://ex.org/f1#Vettel'), rdflib.term.Literal('53', datatype=rdflib.term.URIRef('http://www.w3.org/2001/XMLSchema#integer')))\n",
      "(rdflib.term.URIRef('http://ex.org/f1#Prost'), rdflib.term.Literal('51', datatype=rdflib.term.URIRef('http://www.w3.org/2001/XMLSchema#integer')))\n"
     ]
    }
   ],
   "source": [
    "run_query(\"\"\"\n",
    "SELECT ?driver (COUNT(?result) AS ?wins)\n",
    "WHERE {\n",
    "    ?result a f1:Result;\n",
    "            f1:ForDriver ?driver;\n",
    "            f1:Position '1'^^xsd:integer.\n",
    "}\n",
    "GROUP BY ?driver\n",
    "ORDER BY DESC(?wins)\n",
    "LIMIT 5\n",
    "\"\"\")"
   ]
  },
  {
   "cell_type": "markdown",
   "metadata": {},
   "source": [
    "# Countries with the most GP Circuits build"
   ]
  },
  {
   "cell_type": "code",
   "execution_count": 47,
   "metadata": {},
   "outputs": [
    {
     "name": "stdout",
     "output_type": "stream",
     "text": [
      "(rdflib.term.URIRef('http://ex.org/f1#Usa'), rdflib.term.Literal('11', datatype=rdflib.term.URIRef('http://www.w3.org/2001/XMLSchema#integer')))\n",
      "(rdflib.term.URIRef('http://ex.org/f1#France'), rdflib.term.Literal('7', datatype=rdflib.term.URIRef('http://www.w3.org/2001/XMLSchema#integer')))\n",
      "(rdflib.term.URIRef('http://ex.org/f1#Spain'), rdflib.term.Literal('6', datatype=rdflib.term.URIRef('http://www.w3.org/2001/XMLSchema#integer')))\n",
      "(rdflib.term.URIRef('http://ex.org/f1#Uk'), rdflib.term.Literal('4', datatype=rdflib.term.URIRef('http://www.w3.org/2001/XMLSchema#integer')))\n",
      "(rdflib.term.URIRef('http://ex.org/f1#Italy'), rdflib.term.Literal('4', datatype=rdflib.term.URIRef('http://www.w3.org/2001/XMLSchema#integer')))\n"
     ]
    }
   ],
   "source": [
    "run_query(\"\"\"\n",
    "SELECT ?country (COUNT(?circuit) AS ?count)\n",
    "WHERE {\n",
    "    ?circuit a f1:Circuit;\n",
    "             f1:hostCountry ?country.\n",
    "}\n",
    "GROUP BY ?country\n",
    "ORDER BY DESC(?count)\n",
    "LIMIT 5\n",
    "\"\"\")"
   ]
  },
  {
   "cell_type": "markdown",
   "metadata": {},
   "source": [
    "# Most GP Constructor winner"
   ]
  },
  {
   "cell_type": "code",
   "execution_count": 48,
   "metadata": {},
   "outputs": [
    {
     "name": "stdout",
     "output_type": "stream",
     "text": [
      "(rdflib.term.URIRef('http://ex.org/f1#Ferrari_Constructor'), rdflib.term.Literal('246', datatype=rdflib.term.URIRef('http://www.w3.org/2001/XMLSchema#integer')))\n",
      "(rdflib.term.URIRef('http://ex.org/f1#Mclaren_Constructor'), rdflib.term.Literal('180', datatype=rdflib.term.URIRef('http://www.w3.org/2001/XMLSchema#integer')))\n",
      "(rdflib.term.URIRef('http://ex.org/f1#Mercedes_Constructor'), rdflib.term.Literal('127', datatype=rdflib.term.URIRef('http://www.w3.org/2001/XMLSchema#integer')))\n",
      "(rdflib.term.URIRef('http://ex.org/f1#Red_Bull_Constructor'), rdflib.term.Literal('120', datatype=rdflib.term.URIRef('http://www.w3.org/2001/XMLSchema#integer')))\n",
      "(rdflib.term.URIRef('http://ex.org/f1#Williams_Constructor'), rdflib.term.Literal('114', datatype=rdflib.term.URIRef('http://www.w3.org/2001/XMLSchema#integer')))\n"
     ]
    }
   ],
   "source": [
    "run_query(\"\"\"\n",
    "SELECT ?constructor (COUNT(?result) AS ?wins)\n",
    "WHERE {\n",
    "    ?result a f1:Result;\n",
    "            f1:Position '1'^^xsd:integer;\n",
    "            f1:ForCounstructor ?constructor.\n",
    "}\n",
    "GROUP BY ?constructor\n",
    "ORDER BY DESC(?wins)\n",
    "LIMIT 5\n",
    "\"\"\")"
   ]
  }
 ],
 "metadata": {
  "kernelspec": {
   "display_name": "Python 3",
   "language": "python",
   "name": "python3"
  },
  "language_info": {
   "codemirror_mode": {
    "name": "ipython",
    "version": 3
   },
   "file_extension": ".py",
   "mimetype": "text/x-python",
   "name": "python",
   "nbconvert_exporter": "python",
   "pygments_lexer": "ipython3",
   "version": "3.12.7"
  }
 },
 "nbformat": 4,
 "nbformat_minor": 2
}
