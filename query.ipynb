{
 "cells": [
  {
   "cell_type": "markdown",
   "metadata": {},
   "source": [
    "# Querys!"
   ]
  },
  {
   "cell_type": "code",
   "execution_count": 8,
   "metadata": {},
   "outputs": [],
   "source": [
    "from rdflib import Graph"
   ]
  },
  {
   "cell_type": "code",
   "execution_count": 9,
   "metadata": {},
   "outputs": [
    {
     "data": {
      "text/plain": [
       "<Graph identifier=N8c59c9d792794066933dcf303e3e6a65 (<class 'rdflib.graph.Graph'>)>"
      ]
     },
     "execution_count": 9,
     "metadata": {},
     "output_type": "execute_result"
    }
   ],
   "source": [
    "g = Graph()\n",
    "g.parse(\"data.ttl\", format = \"turtle\")"
   ]
  },
  {
   "cell_type": "code",
   "execution_count": 10,
   "metadata": {},
   "outputs": [],
   "source": [
    "def run_query(qry: str):\n",
    "    results = g.query(qry)\n",
    "    for row in results:\n",
    "        print(row)"
   ]
  },
  {
   "cell_type": "markdown",
   "metadata": {},
   "source": [
    "## Most Represented nationality"
   ]
  },
  {
   "cell_type": "code",
   "execution_count": 13,
   "metadata": {},
   "outputs": [
    {
     "name": "stdout",
     "output_type": "stream",
     "text": [
      "(rdflib.term.URIRef('http://ex.org/f1#British'), rdflib.term.Literal('166', datatype=rdflib.term.URIRef('http://www.w3.org/2001/XMLSchema#integer')))\n",
      "(rdflib.term.URIRef('http://ex.org/f1#American'), rdflib.term.Literal('158', datatype=rdflib.term.URIRef('http://www.w3.org/2001/XMLSchema#integer')))\n",
      "(rdflib.term.URIRef('http://ex.org/f1#Italian'), rdflib.term.Literal('99', datatype=rdflib.term.URIRef('http://www.w3.org/2001/XMLSchema#integer')))\n",
      "(rdflib.term.URIRef('http://ex.org/f1#French'), rdflib.term.Literal('73', datatype=rdflib.term.URIRef('http://www.w3.org/2001/XMLSchema#integer')))\n",
      "(rdflib.term.URIRef('http://ex.org/f1#German'), rdflib.term.Literal('50', datatype=rdflib.term.URIRef('http://www.w3.org/2001/XMLSchema#integer')))\n"
     ]
    }
   ],
   "source": [
    "run_query(\"\"\"\n",
    "SELECT ?nationality (COUNT(?driver) AS ?count)\n",
    "WHERE {\n",
    "    ?driver a f1:Driver;\n",
    "            f1:Nationality ?nationality.\n",
    "}\n",
    "GROUP BY ?nationality\n",
    "ORDER BY DESC(?count)\n",
    "LIMIT 5\n",
    "\"\"\")"
   ]
  },
  {
   "cell_type": "markdown",
   "metadata": {},
   "source": [
    "## Most GP Winner"
   ]
  },
  {
   "cell_type": "code",
   "execution_count": null,
   "metadata": {},
   "outputs": [],
   "source": [
    "run_query(\"\"\"\n",
    "SELECT ?driver (COUNT(?result) AS ?wins)\n",
    "WHERE {\n",
    "    ?result a f1:Result;\n",
    "            f1:driver ?driver;\n",
    "            f1:position '1'^^xsd:integer.\n",
    "}\n",
    "GROUP BY ?driver\n",
    "ORDER BY DESC(?wins)\n",
    "LIMIT 5\n",
    "\"\"\")"
   ]
  }
 ],
 "metadata": {
  "kernelspec": {
   "display_name": "Python 3",
   "language": "python",
   "name": "python3"
  },
  "language_info": {
   "codemirror_mode": {
    "name": "ipython",
    "version": 3
   },
   "file_extension": ".py",
   "mimetype": "text/x-python",
   "name": "python",
   "nbconvert_exporter": "python",
   "pygments_lexer": "ipython3",
   "version": "3.12.7"
  }
 },
 "nbformat": 4,
 "nbformat_minor": 2
}
