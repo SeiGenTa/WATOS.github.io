{
 "cells": [
  {
   "cell_type": "markdown",
   "metadata": {},
   "source": [
    "# Convirtiendo datos a ttl\n",
    ":D\n"
   ]
  },
  {
   "cell_type": "code",
   "execution_count": null,
   "metadata": {},
   "outputs": [],
   "source": [
    "import pandas as pd # no quitar, se rompe el proyectoimport pandas as pd"
   ]
  },
  {
   "cell_type": "code",
   "execution_count": null,
   "metadata": {},
   "outputs": [],
   "source": [
    "#Leemos TODO PORQUE SI\n",
    "circuits = pd.read_csv('data/circuits.csv')\n",
    "constructorResults = pd.read_csv('data/constructor_results.csv')\n",
    "constructors = pd.read_csv('data/constructors.csv')\n",
    "constructorStandings = pd.read_csv('data/constructor_standings.csv')\n",
    "drivers = pd.read_csv('data/drivers.csv')\n",
    "driverStandings = pd.read_csv('data/driver_standings.csv')\n",
    "lapTimes = pd.read_csv('data/lap_times.csv')\n",
    "pitStops = pd.read_csv('data/pit_stops.csv')\n",
    "qualifying = pd.read_csv('data/qualifying.csv')"
   ]
  },
  {
   "cell_type": "code",
   "execution_count": null,
   "metadata": {},
   "outputs": [],
   "source": [
    "#Escribimos en el archivo data lo primero de la salida\n",
    "with open('data.txt', 'w') as file:\n",
    "    #Vaciamos el archivo\n",
    "    file.write(\"\"\"@prefix f1: <http://ex.org/f1#>.\n",
    "@prefix owl: <http://www.w3.org/2002/07/owl#>.\n",
    "@prefix rdf: <http://www.w3.org/1999/02/22-rdf-syntax-ns#>.\n",
    "@prefix rdfs: <http://www.w3.org/2000/01/rdf-schema#>. \n",
    "@prefix xsd: <http://www.w3.org/2001/XMLSchema#>.\\n\"\"\")\n",
    "    \n",
    "print(\"\"\"\n",
    "PARA EL RESTO DEBEN ESCRIBIR CON\n",
    "with open('data.txt', 'a') as file:\n",
    "    file.write(\"LO QUE SEA\")\n",
    "\"\"\")"
   ]
  },
  {
   "cell_type": "code",
   "execution_count": null,
   "metadata": {},
   "outputs": [],
   "source": [
    "class Sing:\n",
    "    _instances = {}  # Dictionary to store instances by their value (string)\n",
    "    \n",
    "    def __new__(cls, value):\n",
    "        # If the instance doesn't exist for the given value, create one\n",
    "        if value not in cls._instances:\n",
    "            instance = super(Sing, cls).__new__(cls)\n",
    "            instance.value = value  # Assign the value to the instance\n",
    "            cls._instances[value] = instance  # Store the instance by value\n",
    "        return cls._instances[value]  # Return the stored instance for the value\n",
    "    \n",
    "    def __repr__(self):\n",
    "        return f\"Sing({self.value!r})\"\n",
    "\n",
    "# Testing the Singleton behavior based on string values\n",
    "a1 = Sing(\"A\")\n",
    "a2 = Sing(\"A\")\n",
    "b1 = Sing(\"B\")\n",
    "\n",
    "# Identity comparison (using 'is')\n",
    "print(a1 is a2)  # Output: True, both are the same instance\n",
    "print(a1 is b1)  # Output: False, different instances because they have different values\n",
    "\n",
    "print(f\"{type(a1)=}\")"
   ]
  },
  {
   "cell_type": "code",
   "execution_count": 30,
   "metadata": {},
   "outputs": [
    {
     "name": "stdout",
     "output_type": "stream",
     "text": [
      "ex:A a ex:xd;\n",
      "\t:? ex:nah, ex:na2.\n"
     ]
    }
   ],
   "source": [
    "# print(\"nueva, notacion usando las siguientes data classes, esta para \\n1 mantener la ontologia limpia es decir no tener duplicas de definicion de algo \\n2 hacer un solo flush en el archivo ttl los datos, lo que implicara una mejora en el tiempo de la generacion del archivo\")\n",
    "\n",
    "from dataclasses import dataclass, field\n",
    "from typing import List, Union, Dict\n",
    "\n",
    "@dataclass\n",
    "class RDFPredicate:\n",
    "    property: str\n",
    "    objects: List[str]\n",
    "\n",
    "@dataclass\n",
    "class RDFStatement:\n",
    "    _instances = {}\n",
    "    subject: str\n",
    "    predicates: dict[str, list[str]] = field(default_factory=dict)\n",
    "\n",
    "    def __new__(cls, *args, **kwargs):\n",
    "        # subject expected to either be the first args or with the key \"subject\"\n",
    "        subject = kwargs.get(\"subject\", args[0] if args else None)\n",
    "\n",
    "        if not subject:\n",
    "            raise ValueError(\"RDFStatement requires a 'subject' argument.\")\n",
    "        \n",
    "        if subject not in cls._instances:\n",
    "            new_instance = super(RDFStatement, cls).__new__(cls)\n",
    "            new_instance.subject = subject\n",
    "            new_instance.predicates = {}\n",
    "            cls._instances[subject] = new_instance\n",
    "        \n",
    "        return cls._instances[subject]\n",
    "\n",
    "    def __init__(self, subject: str, predicate: Union[str, RDFPredicate, List[RDFPredicate]], objects: Union[str, List[str]]):\n",
    "        if isinstance(predicate, str):\n",
    "            is_objects_str = isinstance(objects, str)\n",
    "            if not (is_objects_str or all(isinstance(o, str) for o in objects)):\n",
    "                raise Exception(f\"RDFStatement: {type(objects)} expected Union[str, List[str]]\")\n",
    "            if is_objects_str:\n",
    "                objects = [objects]\n",
    "            self._insert_on_property(predicate, objects)\n",
    "        \n",
    "        elif isinstance(predicate, RDFPredicate):\n",
    "            self._insert_on_property(predicate.property, predicate.objects)\n",
    "\n",
    "        elif isinstance(predicate, list):\n",
    "            if not all(isinstance(p, RDFPredicate) for p in predicate):\n",
    "                raise Exception(f\"RDFStatement: {type(predicate)=} expected List[RDFPredicate]\")\n",
    "            for rdfp in predicate:\n",
    "                self._insert_on_property(rdfp.property, rdfp.objects)\n",
    "\n",
    "        else:\n",
    "            raise Exception(f\"RDFStatement: {type(predicate)=} expected Union[str, RDFPredicate, List[RDFPredicate]]\")\n",
    "        \n",
    "    def _insert_on_property(self, property: str, objects: list[str]):\n",
    "        if property in self.predicates:\n",
    "            for obj in objects:\n",
    "                if obj not in self.predicates[property]:\n",
    "                    self.predicates[property].append(obj)\n",
    "        else:\n",
    "            self.predicates[property] = objects\n",
    "    \n",
    "    def to_ttl(self) -> str:\n",
    "        ret = self.subject + \" \"\n",
    "        for property, objects in self.predicates.items():\n",
    "            ret += property + \" \" + \", \".join(objects) + \";\\n\\t\"\n",
    "        ret = ret[:-3]\n",
    "        ret += \".\"\n",
    "        return ret\n",
    "\n",
    "A = RDFStatement(\"ex:A\", \"a\", \"ex:xd\")\n",
    "RDFStatement(\"ex:A\", \":?\", [\"ex:nah\", \"ex:na2\"])\n",
    "print(A.to_ttl())"
   ]
  },
  {
   "cell_type": "code",
   "execution_count": 42,
   "metadata": {},
   "outputs": [
    {
     "name": "stdout",
     "output_type": "stream",
     "text": [
      "ex:A a ex:xd;\n",
      "\t:? ex:nah, ex:na2;\n",
      "\t:T ex:nah, ex:na2.\n"
     ]
    }
   ],
   "source": [
    "RDFStatement(\"ex:A\", \":T\", [\"ex:nah\", \"ex:na2\"])\n",
    "print(A.to_ttl())"
   ]
  },
  {
   "cell_type": "code",
   "execution_count": null,
   "metadata": {},
   "outputs": [],
   "source": [
    "property \n",
    "\n",
    "class MyClass:\n",
    "    def __new__(cls, *args, **kwargs):\n",
    "        print(\"Calling __new__\")\n",
    "        instance = super(MyClass, cls).__new__(cls)\n",
    "        print(args, kwargs)\n",
    "        args[0].append(2)\n",
    "        return instance\n",
    "\n",
    "    def __init__(self, x, y):\n",
    "        print(\"Calling __init__\")\n",
    "        print(x, y)\n",
    "        self.x = x\n",
    "        self.y = y\n",
    "\n",
    "MyClass([1], y=2)"
   ]
  },
  {
   "cell_type": "markdown",
   "metadata": {},
   "source": [
    "# Generar RDF Nationality"
   ]
  },
  {
   "cell_type": "code",
   "execution_count": null,
   "metadata": {},
   "outputs": [],
   "source": [
    "# TODO: HACER LA WEA\n",
    "with open('data.txt', 'a') as file:\n",
    "    file.write(\"f1:Country rdf:type owl:Class.\\n\")\n",
    "\n",
    "unique_countries = drivers['nationality'].unique()\n",
    "\n",
    "with open('data.txt', 'a') as file:\n",
    "    for country in unique_countries:\n",
    "        #Evitamos que hayan \" \"en el string y los cambiamos por \"_\" para que no haya problemas\n",
    "        country = country.replace(\" \", \"_\")\n",
    "        file.write(f\"f1:{country} rdf:type f1:Nationality .\\n\")"
   ]
  },
  {
   "cell_type": "markdown",
   "metadata": {},
   "source": [
    "# Generar RDF Drivers"
   ]
  },
  {
   "cell_type": "code",
   "execution_count": null,
   "metadata": {},
   "outputs": [],
   "source": [
    "# Tenemos las nacionalidades de los pilotos, ahora crearemos el resto de datos\n",
    "\n",
    "# Creamos la clase f1 Driver\n",
    "\n",
    "with open('data.txt', 'a') as file:\n",
    "    file.write(\"\"\"f1:Driver rdf:type owl:Class;\n",
    "                rdfs:comment 'A class representing an F1 driver'@en .\\n\"\"\")\n",
    "    \n",
    "# Añadimos cada driver con su nacionalidad correspondiente:\n",
    "# Por cada driver, añadimos su nombre, su fecha de nacimiento, su nacionalidad y su número de piloto\n",
    "\n",
    "#Muchos drivers number son simplemente /N, eliminar?\n",
    "with open('data.txt', 'a') as file:\n",
    "    for index, row in drivers.iterrows():\n",
    "        file.write(f\"\\nf1:{row['driverRef']} rdf:type f1:Driver;\\n\")\n",
    "        file.write(f'rdfs:label \"{row[\"forename\"]} {row[\"surname\"]}\"@en;\\n')\n",
    "        if row['code'] != r'\\N':\n",
    "            file.write(f\"f1:code '{row['code']}';\\n\")\n",
    "        nationality = row['nationality'].replace(\" \", \"_\")\n",
    "        file.write(f\"f1:Nationality f1:{nationality};\\n\")\n",
    "        if row['number'] != r'\\N':\n",
    "            file.write(f\"f1:number '{row['number']}'^^xsd:integer;\\n\")\n",
    "        \n",
    "        file.write(f\"f1:dateOfBirth '{row['dob']}'^^xsd:date .\\n\") \n"
   ]
  },
  {
   "cell_type": "markdown",
   "metadata": {},
   "source": [
    "# Generar RDF Pistas"
   ]
  },
  {
   "cell_type": "code",
   "execution_count": null,
   "metadata": {},
   "outputs": [],
   "source": [
    "circuit_ontology = \"\"\"f1:Circuit a rdf:Class, owl:Class;\n",
    "    rdfs:label 'A F1 Circuit'@en;\n",
    "    rdfs:comment 'A class representing a F1 circuit'@en;\n",
    "\n",
    "f1:City a rdf:Class, owl:Class;\n",
    "    rdfs:label 'A City'@en;\n",
    "    rdfs:comment 'A City in the world related to f1'@en;\n",
    "\n",
    "f1:hostCity a rdf:Property;\n",
    "    rdfs:label 'City'@en;\n",
    "    rdfs:comment 'a City hosting a F1 circuit'@en;\n",
    "    rdfs:domain f1:Circuit;\n",
    "\n",
    "f1:hostCountry a rdf:Property;\n",
    "    rdfs:label 'Country'@en;\n",
    "    rdfs:comment 'a Country hosting a F1 circuit'@en;\n",
    "    rdfs:domain f1:Circuit;\"\"\"\n",
    "\n",
    "with open('data.txt', 'a') as f:\n",
    "    f.write(circuit_ontology)\n",
    "    #Circuits\n",
    "\n",
    "    circuits_ttl = \"\"\n",
    "    for index, row in drivers.iterrows():\n",
    "        circuits_ttl += f\"f1:{row[\"circuitRef\"]} rdf:type f1:Circuit;\\n\\t\"\n",
    "        circuits_ttl += f\"rdfs:label '{row[\"name\"]}'@en;\\n\\t\"\n",
    "        circuits_ttl += f\"f1:City f1:{row[\"location\"]};\\n\\t\"\n",
    "        circuits_ttl += f\"f1: :{row[]};\\n\\t\"\n",
    "        circuits_ttl += f\"f1: :{row[]};\\n\\t\"\n"
   ]
  },
  {
   "cell_type": "markdown",
   "metadata": {},
   "source": [
    "# Generar RDF Constructores"
   ]
  },
  {
   "cell_type": "code",
   "execution_count": null,
   "metadata": {},
   "outputs": [],
   "source": [
    "with open('data.txt', 'a') as file:\n",
    "    file.write(\"f1:Constructor rdf:type owl:Class;\\nrdfs:comment 'A class representing an F1 constructor'@en .\\n\")\n",
    "    \n",
    "    for index, row in constructors.iterrows():\n",
    "        file.write(f\"\"\"\\nf1:{row['constructorRef']} rdf:type f1:Constructor;\n",
    "                    rdfs:label '{row['name']}'@en;\n",
    "                    f1:nationality 'f{row[\"nationality\"]}';\n",
    "                    f1:link '{row[\"url\"]}' .\\n\"\"\")\n",
    "                    "
   ]
  }
 ],
 "metadata": {
  "kernelspec": {
   "display_name": "venv",
   "language": "python",
   "name": "python3"
  },
  "language_info": {
   "codemirror_mode": {
    "name": "ipython",
    "version": 3
   },
   "file_extension": ".py",
   "mimetype": "text/x-python",
   "name": "python",
   "nbconvert_exporter": "python",
   "pygments_lexer": "ipython3",
   "version": "3.11.9"
  }
 },
 "nbformat": 4,
 "nbformat_minor": 2
}
