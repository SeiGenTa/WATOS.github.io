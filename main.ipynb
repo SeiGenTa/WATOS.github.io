{
 "cells": [
  {
   "cell_type": "markdown",
   "metadata": {},
   "source": [
    "# Convirtiendo datos a ttl\n",
    ":D\n"
   ]
  },
  {
   "cell_type": "code",
   "execution_count": 96,
   "metadata": {},
   "outputs": [],
   "source": [
    "import pandas as pd # no quitar, se rompe el proyectoimport pandas as pd"
   ]
  },
  {
   "cell_type": "code",
   "execution_count": 97,
   "metadata": {},
   "outputs": [],
   "source": [
    "#Leemos TODO PORQUE SI\n",
    "circuits = pd.read_csv('data/circuits.csv')\n",
    "constructorResults = pd.read_csv('data/constructor_results.csv')\n",
    "constructors = pd.read_csv('data/constructors.csv')\n",
    "constructorStandings = pd.read_csv('data/constructor_standings.csv')\n",
    "drivers = pd.read_csv('data/drivers.csv')\n",
    "driverStandings = pd.read_csv('data/driver_standings.csv')\n",
    "lapTimes = pd.read_csv('data/lap_times.csv')\n",
    "pitStops = pd.read_csv('data/pit_stops.csv')\n",
    "qualifying = pd.read_csv('data/qualifying.csv')"
   ]
  },
  {
   "cell_type": "code",
   "execution_count": 98,
   "metadata": {},
   "outputs": [
    {
     "data": {
      "text/plain": [
       "'\\nPARA EL RESTO DEBEN ESCRIBIR CON\\nwith open(\\'data.txt\\', \\'a\\') as file:\\n    file.write(\"LO QUE SEA\")\\n'"
      ]
     },
     "execution_count": 98,
     "metadata": {},
     "output_type": "execute_result"
    }
   ],
   "source": [
    "#Escribimos en el archivo data lo primero de la salida\n",
    "with open('data.txt', 'w') as file:\n",
    "    #Vaciamos el archivo\n",
    "    file.write(\"@prefix f1: <http://ex.org/>.\\n @prefix owl: <http://www.w3.org/2002/07/owl#>.\\n@prefix rdf: <http://www.w3.org/1999/02/22-rdf-syntax-ns#>.\\n@prefix rdfs: <http://www.w3.org/2000/01/rdf-schema#>. \\n@prefix xsd: <http://www.w3.org/2001/XMLSchema#> .\\n\")\n",
    "    \n",
    "\"\"\"\n",
    "PARA EL RESTO DEBEN ESCRIBIR CON\n",
    "with open('data.txt', 'a') as file:\n",
    "    file.write(\"LO QUE SEA\")\n",
    "\"\"\"\n"
   ]
  },
  {
   "cell_type": "markdown",
   "metadata": {},
   "source": [
    "# Generar RDF Nationality"
   ]
  },
  {
   "cell_type": "code",
   "execution_count": 99,
   "metadata": {},
   "outputs": [],
   "source": [
    "# TODO: HACER LA WEA\n",
    "with open('data.txt', 'a') as file:\n",
    "    file.write(\"f1:Country rdf:type owl:Class .\\n\")\n",
    "\n",
    "unique_countries = drivers['nationality'].unique()\n",
    "\n",
    "for country in unique_countries:\n",
    "    with open('data.txt', 'a') as file:\n",
    "        #Evitamos que hayan \" \"en el string y los cambiamos por \"_\" para que no haya problemas\n",
    "        country = country.replace(\" \", \"_\")\n",
    "        file.write(f\"f1:{country} rdf:type f1:Nationality .\\n\")"
   ]
  },
  {
   "cell_type": "markdown",
   "metadata": {},
   "source": [
    "# Generar RDF Drivers"
   ]
  },
  {
   "cell_type": "code",
   "execution_count": 100,
   "metadata": {},
   "outputs": [],
   "source": [
    "# Tenemos las nacionalidades de los pilotos, ahora crearemos el resto de datos\n",
    "\n",
    "# Creamos la clase f1 Driver\n",
    "\n",
    "with open('data.txt', 'a') as file:\n",
    "    file.write(\"\"\"f1:Driver rdf:type owl:Class;\n",
    "                rdfs:comment 'A class representing an F1 driver'@en .\\n\"\"\")\n",
    "    \n",
    "# Añadimos cada driver con su nacionalidad correspondiente:\n",
    "# Por cada driver, añadimos su nombre, su fecha de nacimiento, su nacionalidad y su número de piloto\n",
    "\n",
    "#Muchos drivers number son simplemente /N, eliminar?\n",
    "for index, row in drivers.iterrows():\n",
    "    with open('data.txt', 'a') as file:\n",
    "        file.write(f\"\\nf1:{row['driverRef']} rdf:type f1:Driver;\\n\")\n",
    "        file.write(f'rdfs:label \"{row[\"forename\"]} {row[\"surname\"]}\"@en;\\n')\n",
    "        if row['code'] != r'\\N':\n",
    "            file.write(f\"f1:code '{row['code']}';\\n\")\n",
    "        nationality = row['nationality'].replace(\" \", \"_\")\n",
    "        file.write(f\"f1:Nationality f1:{nationality};\\n\")\n",
    "        if row['number'] != r'\\N':\n",
    "            file.write(f\"f1:number '{row['number']}'^^xsd:integer;\\n\")\n",
    "        \n",
    "        file.write(f\"f1:dateOfBirth '{row['dob']}'^^xsd:date .\\n\") \n"
   ]
  },
  {
   "cell_type": "markdown",
   "metadata": {},
   "source": [
    "# Generar RDF Pistas"
   ]
  },
  {
   "cell_type": "code",
   "execution_count": 101,
   "metadata": {},
   "outputs": [],
   "source": [
    "data_rdf = \"\"\n",
    "\n",
    "#Circuits\n"
   ]
  },
  {
   "cell_type": "markdown",
   "metadata": {},
   "source": [
    "# Generar RDF Constructores"
   ]
  },
  {
   "cell_type": "code",
   "execution_count": null,
   "metadata": {},
   "outputs": [],
   "source": [
    "with open('data.txt', 'a') as file:\n",
    "    file.write(\"f1:Constructor rdf:type owl:Class;\\nrdfs:comment 'A class representing an F1 constructor'@en .\\n\")\n",
    "    \n",
    "    for index, row in constructors.iterrows():\n",
    "        file.write(f\"\"\"\\nf1:{row['constructorRef']} rdf:type f1:Constructor;\n",
    "                    rdfs:label '{row['name']}'@en;\n",
    "                    f1:nationality 'f{row[\"nationality\"]}';\n",
    "                    f1:link '{row[\"url\"]}' .\\n\"\"\")\n",
    "                    "
   ]
  }
 ],
 "metadata": {
  "kernelspec": {
   "display_name": "venv",
   "language": "python",
   "name": "python3"
  },
  "language_info": {
   "codemirror_mode": {
    "name": "ipython",
    "version": 3
   },
   "file_extension": ".py",
   "mimetype": "text/x-python",
   "name": "python",
   "nbconvert_exporter": "python",
   "pygments_lexer": "ipython3",
   "version": "3.11.9"
  }
 },
 "nbformat": 4,
 "nbformat_minor": 2
}
