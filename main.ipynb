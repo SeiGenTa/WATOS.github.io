{
 "cells": [
  {
   "cell_type": "markdown",
   "metadata": {},
   "source": [
    "# Convirtiendo datos a ttl\n",
    ":D\n"
   ]
  },
  {
   "cell_type": "code",
   "execution_count": null,
   "metadata": {},
   "outputs": [],
   "source": [
    "import pandas as pd # no quitar, se rompe el proyectoimport pandas as pd"
   ]
  },
  {
   "cell_type": "code",
   "execution_count": null,
   "metadata": {},
   "outputs": [],
   "source": [
    "#Leemos TODO PORQUE SI\n",
    "circuits = pd.read_csv('data/circuits.csv')\n",
    "constructorResults = pd.read_csv('data/constructor_results.csv')\n",
    "constructors = pd.read_csv('data/constructors.csv')\n",
    "constructorStandings = pd.read_csv('data/constructor_standings.csv')\n",
    "drivers = pd.read_csv('data/drivers.csv')\n",
    "driverStandings = pd.read_csv('data/driver_standings.csv')\n",
    "lapTimes = pd.read_csv('data/lap_times.csv')\n",
    "pitStops = pd.read_csv('data/pit_stops.csv')\n",
    "qualifying = pd.read_csv('data/qualifying.csv')"
   ]
  },
  {
   "cell_type": "code",
   "execution_count": null,
   "metadata": {},
   "outputs": [],
   "source": [
    "#Escribimos en el archivo data lo primero de la salida\n",
    "with open('data.txt', 'w') as file:\n",
    "    #Vaciamos el archivo\n",
    "    file.write(\"@prefix ex: <http://ex.org/>.\\n @prefix owl: <http://www.w3.org/2002/07/owl#>.\\n@prefix rdf: <http://www.w3.org/1999/02/22-rdf-syntax-ns#>.\\n@prefix rdfs: <http://www.w3.org/2000/01/rdf-schema#>.\")\n",
    "    \n",
    "\"\"\"\n",
    "PARA EL RESTO DEBEN ESCRIBIR CON\n",
    "with open('data.txt', 'a') as file:\n",
    "    file.write(\"LO QUE SEA\")\n",
    "\"\"\"\n"
   ]
  },
  {
   "cell_type": "markdown",
   "metadata": {},
   "source": [
    "# Generar RDF Nationality"
   ]
  },
  {
   "cell_type": "code",
   "execution_count": null,
   "metadata": {},
   "outputs": [],
   "source": [
    "# TODO: HACER LA WEA"
   ]
  },
  {
   "cell_type": "markdown",
   "metadata": {},
   "source": [
    "# Generar RDF Pistas"
   ]
  },
  {
   "cell_type": "code",
   "execution_count": null,
   "metadata": {},
   "outputs": [],
   "source": [
    "data_rdf = \"\"\n",
    "\n",
    "#Circuits\n"
   ]
  },
  {
   "cell_type": "markdown",
   "metadata": {},
   "source": [
    "# Generar RDF Constructores"
   ]
  },
  {
   "cell_type": "code",
   "execution_count": null,
   "metadata": {},
   "outputs": [],
   "source": []
  }
 ],
 "metadata": {
  "kernelspec": {
   "display_name": "venv",
   "language": "python",
   "name": "python3"
  },
  "language_info": {
   "codemirror_mode": {
    "name": "ipython",
    "version": 3
   },
   "file_extension": ".py",
   "mimetype": "text/x-python",
   "name": "python",
   "nbconvert_exporter": "python",
   "pygments_lexer": "ipython3",
   "version": "3.11.9"
  }
 },
 "nbformat": 4,
 "nbformat_minor": 2
}
