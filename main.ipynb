{
 "cells": [
  {
   "cell_type": "markdown",
   "metadata": {},
   "source": [
    "# Convirtiendo datos a ttl\n",
    ":D\n"
   ]
  },
  {
   "cell_type": "code",
   "execution_count": 96,
   "metadata": {},
   "outputs": [],
   "source": [
    "import pandas as pd # no quitar, se rompe el proyectoimport pandas as pd"
   ]
  },
  {
   "cell_type": "code",
   "execution_count": 97,
   "metadata": {},
   "outputs": [],
   "source": [
    "#Leemos TODO PORQUE SI\n",
    "circuits = pd.read_csv('data/circuits.csv')\n",
    "constructorResults = pd.read_csv('data/constructor_results.csv')\n",
    "constructors = pd.read_csv('data/constructors.csv')\n",
    "constructorStandings = pd.read_csv('data/constructor_standings.csv')\n",
    "drivers = pd.read_csv('data/drivers.csv')\n",
    "driverStandings = pd.read_csv('data/driver_standings.csv')\n",
    "lapTimes = pd.read_csv('data/lap_times.csv')\n",
    "pitStops = pd.read_csv('data/pit_stops.csv')\n",
    "qualifying = pd.read_csv('data/qualifying.csv')\n",
    "NAME_FILE = \"data.ttl\""
   ]
  },
  {
   "cell_type": "code",
   "execution_count": 98,
   "metadata": {},
   "outputs": [
    {
     "name": "stdout",
     "output_type": "stream",
     "text": [
      "nueva, notacion usando las siguientes data classes, esta para \n",
      "1 mantener la ontologia limpia es decir no tener duplicas de definicion de algo \n",
      "2 hacer un solo flush en el archivo ttl los datos, lo que implicara una mejora en el tiempo de la generacion del archivo\n"
     ]
    }
   ],
   "source": [
    "print(\"nueva, notacion usando las siguientes data classes, esta para \\n1 mantener la ontologia limpia es decir no tener duplicas de definicion de algo \\n2 hacer un solo flush en el archivo ttl los datos, lo que implicara una mejora en el tiempo de la generacion del archivo\")\n",
    "\n",
    "from dataclasses import dataclass, field\n",
    "from typing import List, Union, Dict\n",
    "\n",
    "@dataclass\n",
    "class RDFPredicate:\n",
    "    property: str\n",
    "    objects: List[str]\n",
    "\n",
    "@dataclass\n",
    "class RDFStatement:\n",
    "    _instances = {}\n",
    "    subject: str\n",
    "    predicates: dict[str, list[str]] = field(default_factory=dict)\n",
    "\n",
    "    def __new__(cls, *args, **kwargs):\n",
    "        # subject expected to either be the first args or with the key \"subject\"\n",
    "        subject = kwargs.get(\"subject\", args[0] if args else None)\n",
    "\n",
    "        if not subject:\n",
    "            raise ValueError(\"RDFStatement requires a 'subject' argument.\")\n",
    "        \n",
    "        if subject not in cls._instances:\n",
    "            new_instance = super(RDFStatement, cls).__new__(cls)\n",
    "            new_instance.subject = subject\n",
    "            new_instance.predicates = {}\n",
    "            cls._instances[subject] = new_instance\n",
    "        \n",
    "        return cls._instances[subject]\n",
    "\n",
    "    def __init__(self, subject: str, predicate: Union[str, RDFPredicate, List[RDFPredicate], List[List[any]]] = None, objects: Union[str, List[str]] = None):\n",
    "        if predicate is None and objects is None:\n",
    "            return\n",
    "        \n",
    "        elif (all(isinstance(p, list) for p in predicate)):\n",
    "            for p in predicate:\n",
    "                self._insert_statement(p[0], p[1])\n",
    "        \n",
    "        else:\n",
    "            self._insert_statement(predicate, objects)\n",
    "\n",
    "    def _insert_statement(self, predicate: Union[str, RDFPredicate, List[RDFPredicate], List[List[RDFPredicate]]]= None, objects: Union[str, List[str]] = None):\n",
    "        if isinstance(predicate, str):\n",
    "            is_objects_str = isinstance(objects, str)\n",
    "            if not (is_objects_str or all(isinstance(o, str) for o in objects)):\n",
    "                raise Exception(f\"RDFStatement: {type(objects)} expected Union[str, List[str]]\")\n",
    "            if is_objects_str:\n",
    "                objects = [objects]\n",
    "            self._insert_on_property(predicate, objects)\n",
    "        \n",
    "        elif isinstance(predicate, RDFPredicate):\n",
    "            self._insert_on_property(predicate.property, predicate.objects)\n",
    "\n",
    "        elif isinstance(predicate, list):\n",
    "            if not all(isinstance(p, RDFPredicate) for p in predicate):\n",
    "                raise Exception(f\"RDFStatement: {type(predicate)=} expected List[RDFPredicate]\")\n",
    "            for rdfp in predicate:\n",
    "                self._insert_on_property(rdfp.property, rdfp.objects)\n",
    "        elif predicate is None and objects is None:\n",
    "            return\n",
    "        else:\n",
    "            raise Exception(f\"RDFStatement:{predicate} {type(predicate)=} expected Union[str, RDFPredicate, List[RDFPredicate]]\")\n",
    "        \n",
    "    def _insert_on_property(self, property: str, objects: list[str]):\n",
    "        if property in self.predicates:\n",
    "            for obj in objects:\n",
    "                if obj not in self.predicates[property]:\n",
    "                    self.predicates[property].append(obj)\n",
    "        else:\n",
    "            self.predicates[property] = objects\n",
    "    \n",
    "    def to_ttl(self) -> str:\n",
    "        ret = self.subject + \" \"\n",
    "        for property, objects in self.predicates.items():\n",
    "            ret += property + \" \" + \", \".join(objects) + \";\\n\\t\"\n",
    "        ret = ret[:-3]\n",
    "        ret += \".\"\n",
    "        return ret\n",
    "    \n",
    "    def __hash__(self):\n",
    "        return id(self)\n",
    "    \n",
    "    def __eq__(self, other):\n",
    "        if isinstance(other, RDFStatement):\n",
    "            return self.__hash__() == other.__hash__()\n",
    "        return False\n",
    "    \n",
    "class OrderSet:\n",
    "    def __init__(self):\n",
    "        self.data = {} \n",
    "\n",
    "    def insert(self, element):\n",
    "        if element not in self.data:\n",
    "            self.data[element] = len(self.data)\n",
    "\n",
    "    def get_yield(self):\n",
    "        # Devolver los elementos con su orden de inserción\n",
    "        for element, order in self.data.items():\n",
    "            yield (order, element)\n",
    "\n",
    "ontology = OrderSet()\n",
    "subjects = OrderSet()"
   ]
  },
  {
   "cell_type": "markdown",
   "metadata": {},
   "source": [
    "Ej 1:\n",
    "```ttl\n",
    ":11 a rdfs:Class;\n",
    "\t:famosoPor \"numero chistoso\"@es, \"es primo\"@es.\n",
    "```"
   ]
  },
  {
   "cell_type": "code",
   "execution_count": 99,
   "metadata": {},
   "outputs": [
    {
     "name": "stdout",
     "output_type": "stream",
     "text": [
      ":11 a rdfs:Class;\n",
      "\t:famosoPor \"numero chistoso\"@es, \"es primo\"@es.\n"
     ]
    }
   ],
   "source": [
    "RDFStatement(\":11\", \"a\", \"rdfs:Class\")\n",
    "RDFStatement(\":11\", \":famosoPor\", ['\"numero chistoso\"@es', '\"es primo\"@es'])\n",
    "print(RDFStatement(\":11\").to_ttl())"
   ]
  },
  {
   "cell_type": "markdown",
   "metadata": {},
   "source": [
    "Ej 2:\n",
    "```ttl\n",
    "f1:Circuit a rdf:Class, owl:Class;\n",
    "    rdfs:label 'A F1 Circuit'@en;\n",
    "    rdfs:comment 'A class representing a F1 circuit'@en;\n",
    "```"
   ]
  },
  {
   "cell_type": "code",
   "execution_count": 100,
   "metadata": {},
   "outputs": [
    {
     "name": "stdout",
     "output_type": "stream",
     "text": [
      "f1:Circuit a rdf:Class, owl:Class;\n",
      "\trdfs:label 'A F1 Circuit'@en;\n",
      "\trdfs:comment 'A class representing a F1 circuit'@en.\n"
     ]
    }
   ],
   "source": [
    "print(RDFStatement(\"f1:Circuit\", [[\"a\", [\"rdf:Class\", \"owl:Class\"]],\n",
    "                            [\"rdfs:label\", \"'A F1 Circuit'@en\"],\n",
    "                            [\"rdfs:comment\", \"'A class representing a F1 circuit'@en\"]]).to_ttl())"
   ]
  },
  {
   "cell_type": "code",
   "execution_count": 101,
   "metadata": {},
   "outputs": [
    {
     "name": "stdout",
     "output_type": "stream",
     "text": [
      "f1:Circuit a rdf:Class, owl:Class, rdfs:Class;\n",
      "\trdfs:label 'A F1 Circuit'@en;\n",
      "\trdfs:comment 'A class representing a F1 circuit'@en.\n"
     ]
    }
   ],
   "source": [
    "##TEST\n",
    "RDFStatement(\"f1:Circuit\", \"a\", \"rdfs:Class\")\n",
    "print(RDFStatement(\"f1:Circuit\").to_ttl())\n"
   ]
  },
  {
   "cell_type": "markdown",
   "metadata": {},
   "source": [
    "# Generar RDF Nationality"
   ]
  },
  {
   "cell_type": "code",
   "execution_count": 102,
   "metadata": {},
   "outputs": [],
   "source": [
    "# TODO: HACER LA WEA\n",
    "unique_countries = drivers['nationality'].unique()\n",
    "\n",
    "ontology.insert(RDFStatement(\"f1:Country\", [\n",
    "    [\"a\", [\"rdf:Class\", \"owl:Class\"]],\n",
    "    [\"rdfs:label\", \"'A F1 Country'@en\"],\n",
    "    [\"rdfs:comment\", \"'A class representing a F1 country'@en\"]\n",
    "]))\n",
    "\n",
    "for country in unique_countries:\n",
    "    subjects.insert(RDFStatement(f\"f1:{country.replace(\" \",\"_\")}\", [\n",
    "        [\"a\", \"f1:Country\"],\n",
    "        [\"rdfs:label\", f\"'{country}'@en\"]\n",
    "    ]))"
   ]
  },
  {
   "cell_type": "markdown",
   "metadata": {},
   "source": [
    "# Generar RDF Drivers"
   ]
  },
  {
   "cell_type": "code",
   "execution_count": 103,
   "metadata": {},
   "outputs": [],
   "source": [
    "# Tenemos las nacionalidades de los pilotos, ahora crearemos el resto de datos\n",
    "\n",
    "# Creamos la clase f1 Driver\n",
    "\n",
    "with open(NAME_FILE, 'a') as file:\n",
    "    file.write(\"\"\"f1:Driver rdf:type owl:Class;\n",
    "                rdfs:comment 'A class representing an F1 driver'@en .\\n\"\"\")\n",
    "\n",
    "ontology.insert(RDFStatement(\"f1:Driver\", [\n",
    "    [\"a\", [\"rdf:Class\", \"owl:Class\"]],\n",
    "    [\"rdfs:label\", \"'A F1 Driver'@en\"],\n",
    "    [\"rdfs:comment\", \"'A class representing a F1 driver'@en\"]\n",
    "]))\n",
    "    \n",
    "# Añadimos cada driver con su nacionalidad correspondiente:\n",
    "# Por cada driver, añadimos su nombre, su fecha de nacimiento, su nacionalidad y su número de piloto\n",
    "\n",
    "#Muchos drivers number son simplemente /N, eliminar?\n",
    "driver = []\n",
    "for index, row in drivers.iterrows():\n",
    "    driver.append(RDFStatement(f\"f1:{row['driverRef']}\", [\n",
    "        [\"a\", \"f1:Driver\"],\n",
    "        [\"rdfs:label\", f'\"{row['forename']} {row['surname']}\"@en'],\n",
    "        [\"f1:National\",f\"f1:{row['nationality'].replace(\" \", \"_\")}\"],\n",
    "        [\"f1:dateOfBirth\", f\"'{row['dob']}'^^xsd:date\"]\n",
    "    ]))\n",
    "    if row['code'] != r'\\N':\n",
    "        driver.append(RDFStatement(f\"f1:{row['driverRef']}\", \"f1:code\", f\"'{row['code']}'\"))\n",
    "    if row['number'] != r'\\N':\n",
    "        driver.append(RDFStatement(f\"f1:{row['driverRef']}\", \"f1:number\", f\"'{row['number']}'^^xsd:integer\"))\n",
    "        \n",
    "\n",
    "for d in driver:\n",
    "    subjects.insert(d)\n"
   ]
  },
  {
   "cell_type": "markdown",
   "metadata": {},
   "source": [
    "# Generar RDF Pistas"
   ]
  },
  {
   "cell_type": "markdown",
   "metadata": {},
   "source": [
    "## Ontology needed"
   ]
  },
  {
   "cell_type": "markdown",
   "metadata": {},
   "source": [
    "```ttl\n",
    "f1:Circuit a rdf:Class, owl:Class;\n",
    "    rdfs:label 'A F1 Circuit'@en;\n",
    "    rdfs:comment 'A class representing a F1 circuit'@en.\n",
    "\n",
    "f1:City a rdf:Class, owl:Class;\n",
    "    rdfs:label 'A City'@en;\n",
    "    rdfs:comment 'A City in the world related to f1'@en.\n",
    "\n",
    "f1:hostCity a rdf:Property;\n",
    "    rdfs:label 'City'@en;\n",
    "    rdfs:comment 'a City hosting a F1 circuit'@en;\n",
    "    rdfs:domain f1:Circuit.\n",
    "\n",
    "f1:hostCountry a rdf:Property;\n",
    "    rdfs:label 'Country'@en;\n",
    "    rdfs:comment 'a Country hosting a F1 circuit'@en;\n",
    "    rdfs:domain f1:Circuit.\n",
    "```"
   ]
  },
  {
   "cell_type": "code",
   "execution_count": 104,
   "metadata": {},
   "outputs": [],
   "source": [
    "ontology.insert(RDFStatement(\"f1:Circuit\", [[\"a\", [\"rdf:Class\", \"owl:Class\"]],\n",
    "                                            [\"rdfs:label\", \"'A F1 Circuit'@en\"],\n",
    "                                            [\"rdfs:comment\", \"'A class representing a F1 circuit'@en\"]]))\n",
    "\n",
    "ontology.insert(RDFStatement(\"f1:City\",[[\"a\", [\"rdf:Class\", \"owl:Class\"]],\n",
    "                                        [\"rdfs:label\", \"'A City'@en\"],\n",
    "                                        [\"rdfs:comment\", \"'A City in the world related to f1'@en;\"]]))\n",
    "\n",
    "ontology.insert(RDFStatement(\"f1:hostCity\",[[\"a\", \"rdf:Property\"],\n",
    "                                            [\"rdfs:label\", \"'City'@en\"],\n",
    "                                            [\"rdfs:comment\", \"'a City hosting a F1 circuit'@en\"],\n",
    "                                            [\"rdfs:domain\", \"f1:Circuit\"]]))\n",
    "\n",
    "ontology.insert(RDFStatement(\"f1:hostCountry\", [[\"a\", \"rdf:Property\"],\n",
    "                                                [\"rdfs:label\", \"'Country'@en\"],\n",
    "                                                [\"rdfs:comment\", \"'a Country hosting a F1 circuit'@en\"],\n",
    "                                                [\"rdfs:domain\", \"f1:Circuit\"]]))\n"
   ]
  },
  {
   "cell_type": "markdown",
   "metadata": {},
   "source": [
    "* Example:\n",
    "```ttl\n",
    "f1:albert_park a f1:Circuit;\n",
    "    rdfs:label 'Albert Park Grand Prix Circuit'@en;\n",
    "    f1:hostCity f1:Melbourne;\n",
    "    f1:hostCountry f1:Australia;\n",
    "    geo:lat \"-37.8497\"^^xsd:float;\n",
    "    geo:long \"144.968\"^^xsd:float;\n",
    "```"
   ]
  },
  {
   "cell_type": "code",
   "execution_count": 105,
   "metadata": {},
   "outputs": [],
   "source": [
    "cities = []\n",
    "countries = []\n",
    "sub1 = []\n",
    "sub2 = []\n",
    "for index, row in circuits.iterrows():\n",
    "    sub2.append(\n",
    "        RDFStatement(\n",
    "            f\"f1:{row[\"circuitRef\"]}\",\n",
    "            [\n",
    "                [\"rdf:type\", \"f1:Circuit\"],\n",
    "                [\"rdfs:label\", f\"'{row[\"name\"]}'@en\"],\n",
    "                [\"f1:hostCity\", f\"f1:{row[\"location\"].replace(' ', '_')}\"],\n",
    "                [\"f1:hostCountry\", f\"f1:{row[\"country\"].replace(' ', '_')}\"],\n",
    "                [\"geo:lat\", f'\"{row[\"lat\"]}\"^^xsd:float'],\n",
    "                [\"geo:long\", f'\"{row[\"lng\"]}\"^^xsd:float']\n",
    "            ]\n",
    "        )\n",
    "    )\n",
    "    cities.append(row[\"location\"])\n",
    "    countries.append(row[\"country\"])\n",
    "\n",
    "#TODO do the locations and countries\n",
    "\n",
    "\n",
    "for i in sub2:\n",
    "    subjects.insert(i)\n"
   ]
  },
  {
   "cell_type": "markdown",
   "metadata": {},
   "source": [
    "# Generar RDF Constructores"
   ]
  },
  {
   "cell_type": "code",
   "execution_count": 106,
   "metadata": {},
   "outputs": [],
   "source": [
    "ontology.insert(RDFStatement(\"f1:Constructor\", [\n",
    "    [\"a\", [\"rdf:Class\", \"owl:Class\"]],\n",
    "    [\"rdfs:comment\", \"'A class representing an F1 constructor'@en\"]\n",
    "    ]))\n",
    "\n",
    "constructors_RDFS = []\n",
    "for index,row in constructors.iterrows():\n",
    "    constructors_RDFS.append(RDFStatement(f\"f1:{row['constructorRef']}\", [\n",
    "        [\"a\", \"f1:Constructor\"],\n",
    "        [\"rdfs:label\", f\"'{row['name']}'@en\"],\n",
    "        [\"f1:nationality\", f\"f1:{row[\"nationality\"].replace(\" \", \"_\")}\"],\n",
    "        [\"f1:link\", f\"'{row[\"url\"]}'\"]\n",
    "        ]))\n",
    "\n",
    "for c in constructors_RDFS:\n",
    "    subjects.insert(c)\n",
    "        "
   ]
  },
  {
   "cell_type": "markdown",
   "metadata": {},
   "source": [
    "# Escritura de ontologia y subjects"
   ]
  },
  {
   "cell_type": "code",
   "execution_count": 107,
   "metadata": {},
   "outputs": [],
   "source": [
    "with open(NAME_FILE, 'w') as f:\n",
    "    f.write(\"\"\"@prefix f1: <http://ex.org/f1#>.\n",
    "@prefix geo:  <http://www.opengis.net/ont/geosparql#>\n",
    "@prefix owl: <http://www.w3.org/2002/07/owl#>.\n",
    "@prefix rdf: <http://www.w3.org/1999/02/22-rdf-syntax-ns#>.\n",
    "@prefix rdfs: <http://www.w3.org/2000/01/rdf-schema#>. \n",
    "@prefix xsd: <http://www.w3.org/2001/XMLSchema#>.\\n\\n\"\"\")\n",
    "\n",
    "    l = list(ontology.get_yield())\n",
    "    l.sort()\n",
    "    for e in l:\n",
    "        f.write(e[1].to_ttl() + \"\\n\\n\")\n",
    "\n",
    "    l = list(subjects.get_yield())\n",
    "    l.sort()\n",
    "    for e in l:\n",
    "        f.write(e[1].to_ttl() + \"\\n\\n\")"
   ]
  }
 ],
 "metadata": {
  "kernelspec": {
   "display_name": "venv",
   "language": "python",
   "name": "python3"
  },
  "language_info": {
   "codemirror_mode": {
    "name": "ipython",
    "version": 3
   },
   "file_extension": ".py",
   "mimetype": "text/x-python",
   "name": "python",
   "nbconvert_exporter": "python",
   "pygments_lexer": "ipython3",
   "version": "3.12.7"
  }
 },
 "nbformat": 4,
 "nbformat_minor": 2
}
